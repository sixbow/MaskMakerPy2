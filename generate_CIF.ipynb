{
 "cells": [
  {
   "cell_type": "code",
   "execution_count": 1,
   "metadata": {},
   "outputs": [
    {
     "name": "stderr",
     "output_type": "stream",
     "text": [
      "PyClewin/parts/PPCKIDs.py:15: SyntaxWarning: import * only allowed at module level\n",
      "  def Sietse_testKID(connectors, distance_kids, n, ro_line, ro_d, L_cap_top, W_cap_top, W_coupler, L_coupler_overlap, W_CPW):\n",
      "PyClewin/parts/PPCKIDs.py:130: SyntaxWarning: import * only allowed at module level\n",
      "  def PPCkid_v7(direction, L_cap, W_cap, overlap, N_inductor, L_inductor, L_NBTIN_gap, ro_line, distance_kids, layers, connectors, n):\n",
      "PyClewin/parts/PPCKIDs.py:264: SyntaxWarning: import * only allowed at module level\n",
      "  def PPCkid_v8(direction, L_cap, W_cap, overlap, N_inductor, L_inductor, L_NBTIN_gap, ro_line, distance_kids, layers, connectors, n):\n"
     ]
    }
   ],
   "source": [
    "from PyClewin import gg, parts, moveto, gomark, x2m, base, writeTotalString\n",
    "## gg (script) is a short name for the 'script' class that contains the layers, connectors, the methods etc. \n",
    "## parts (parts) are pre-defined parts\n",
    "## moveto (script) moves the current position (this is where patterns are 'written')\n",
    "## gomark (script) moves the current position to the 'mark' position (self.mark), I think marks are a way to store locations (and rotations) in a dict format\n",
    "## x2m (base > ucs) returns the 'x' of the distance to mark vector, it uses dist2mark from (script)\n",
    "import numpy as np\n",
    "from collections import OrderedDict # This is a dictionary where the key-value pairs are ordered"
   ]
  },
  {
   "cell_type": "code",
   "execution_count": 2,
   "metadata": {},
   "outputs": [],
   "source": [
    "filename = 'test.cif'\n",
    "# file with design parameters\n",
    "design = np.loadtxt('design_bruno.txt', skiprows = 1)\n",
    "\n",
    "# enable symbol writing\n",
    "gg.doSymbolWriting = True\n",
    "\n",
    "layers = OrderedDict()\n",
    "#layers = collections.OrderedDict()\n",
    "layers['SiN'] =  '067000aa'\n",
    "layers['NbTiN_GND'] =  '0ff00ff00'\n",
    "layers['SiC'] = '050000aa'\n",
    "layers['NbTiN_line'] = '0ff0000ff'\n",
    "layers['Polyimide'] = '0ff0f000'\n",
    "layers['Aluminum'] = '0fff0000'\n",
    "layers['text'] = '05000000'\n",
    "layers['PPC_KID'] = '0f00cbff'\n",
    "\n",
    "# Bruno: Add the layers to the gg object \n",
    "for k,v in layers.items():\n",
    "    if k not in gg.layers.keys():\n",
    "        gg.layers[k] = v\n",
    "# Define the base unit for all lengths in the design\n",
    "unit_scale = 1e3    # micron\n",
    "mesh = 36           # Bruno: resolution of polygon used for readout line corners\n",
    "gg.scale = unit_scale\n",
    "\n",
    "# Define and create chip\n",
    "gg.newSymbol('Main', top = True) # Bruno: Not sure what 'top' is, I think it is probably a symbol hierarchy (so you can have symbols inside symbols)\n",
    "on_chip_name = \"Sietse test chip\" # Bruno: This text is written on the chip (in the Al layer), no apostrophes allowed\n",
    "[lx,ly] = parts.Chipbasis.testchip20x20(layers, on_chip_name) # Bruno: writes chip outline, this is the size that we want for the microwave chip, lx = 20000, ly = 20000\n",
    "\n",
    "## KID spacing\n",
    "kid_spacing = 1000. # spacing in horizontal (x) direction between KIDs\n",
    "\n",
    "## Determine kid x and y locations\n",
    "N_KIDs = int(design.shape[0])\n",
    "\n",
    "if np.mod(N_KIDs,2) == 1: # uneven number of KIDs\n",
    "    kid_x = np.arange(-(np.floor(N_KIDs/2.)*kid_spacing), (np.floor(N_KIDs/2.)*kid_spacing)+1.0, kid_spacing)\n",
    "\n",
    "elif np.mod(N_KIDs,2) == 0: # even number of KIDs\n",
    "    kid_x = np.arange(-((N_KIDs/2. - 0.5)*kid_spacing), ((N_KIDs/2. - 0.5)*kid_spacing)+1.0, kid_spacing)\n",
    "    \n",
    "kid_x = lx/2. + np.array(kid_x) # Array of x-positions of KIDs (microns)"
   ]
  },
  {
   "cell_type": "code",
   "execution_count": 3,
   "metadata": {},
   "outputs": [],
   "source": [
    "#%% Readoutline\n",
    "# Bruno: It seems that ro_line_sparse and ro_line_dense are exactly the same \n",
    "ro_line_dense = parts.CPWs.CPWreadout(10, 5, mesh, 200, 'NbTiN_GND', 'text',\n",
    "                                parts.Bridges.Bridge('Polyimide', 'Aluminum', 30.0, 40.0, 65.0, 20.0),\n",
    "                                bridgeDistance = 1e3)\n",
    "\n",
    "ro_line_sparse = parts.CPWs.CPWreadout(10, 5, mesh, 200, 'NbTiN_GND', 'text',\n",
    "                                parts.Bridges.Bridge('Polyimide', 'Aluminum', 30.0, 40.0, 65.0, 20.0),\n",
    "                                bridgeDistance = 1e3)"
   ]
  },
  {
   "cell_type": "code",
   "execution_count": 4,
   "metadata": {},
   "outputs": [],
   "source": [
    "#%% DRAW KIDs\n",
    "connectors = [] # define an empty connector list\n",
    "# Bruno: loop over all KIDs\n",
    "ro_d = 20 # distance of top NbTiN plate to roline\n",
    "L_caps_top = np.array([20, 30, 40, 60, 70, 80, 100, 110, 120, 140, 150, 160]) # Plate length (or width), just 12 numbers that I randomly chose...\n",
    "W_caps_top = L_caps_top\n",
    "W_coupler = 4\n",
    "L_coupler_overlap = 4\n",
    "W_CPW = 2\n",
    "for n in range(0,N_KIDs):\n",
    "    moveto(kid_x[n], ly/2.) # Bruno: moves current coordinates (and the KID is drawn there)\n",
    "    connectors = parts.PPCKIDs.Sietse_testKID(connectors, kid_spacing, n, ro_line_sparse, ro_d, L_caps_top[n], W_caps_top[n], W_coupler, L_coupler_overlap, W_CPW)"
   ]
  },
  {
   "cell_type": "code",
   "execution_count": 5,
   "metadata": {},
   "outputs": [
    {
     "name": "stdout",
     "output_type": "stream",
     "text": [
      "connecting KID1in\n",
      "c1\n",
      "connecting KID1\n",
      "c1\n",
      "connecting KID1out\n",
      "c1\n",
      "connecting KID2in\n",
      "c1\n",
      "connecting KID2\n",
      "c1\n",
      "connecting KID2out\n",
      "c1\n",
      "connecting KID3in\n",
      "c1\n",
      "connecting KID3\n",
      "c1\n",
      "connecting KID3out\n",
      "c1\n",
      "connecting KID4in\n",
      "c1\n",
      "connecting KID4\n",
      "c1\n",
      "connecting KID4out\n",
      "c1\n",
      "connecting KID5in\n",
      "c1\n",
      "connecting KID5\n",
      "c1\n",
      "connecting KID5out\n",
      "c1\n",
      "connecting KID6in\n",
      "c1\n",
      "connecting KID6\n",
      "c1\n",
      "connecting KID6out\n",
      "c1\n",
      "connecting KID7in\n",
      "c1\n",
      "connecting KID7\n",
      "c1\n",
      "connecting KID7out\n",
      "c1\n",
      "connecting KID8in\n",
      "c1\n",
      "connecting KID8\n",
      "c1\n",
      "connecting KID8out\n",
      "c1\n",
      "connecting KID9in\n",
      "c1\n",
      "connecting KID9\n",
      "c1\n",
      "connecting KID9out\n",
      "c1\n",
      "connecting KID10in\n",
      "c1\n",
      "connecting KID10\n",
      "c1\n",
      "connecting KID10out\n",
      "c1\n",
      "connecting KID11in\n",
      "c1\n",
      "connecting KID11\n",
      "c1\n",
      "connecting KID11out\n",
      "c1\n",
      "connecting KID12in\n",
      "c1\n",
      "connecting KID12\n",
      "c1\n",
      "connecting KID12out\n",
      "c1\n",
      "connecting bondpadright\n",
      "c1\n"
     ]
    }
   ],
   "source": [
    "## DRAW Bondpads and readout\n",
    "gomark('bondpadleft')\n",
    "parts.Readout.bondpad_100nm_alu(-1, ro_line_sparse, x2m('chip00'))\n",
    "\n",
    "ro_line_sparse.connect(connectors[0])\n",
    "\n",
    "\n",
    "for i in range(1,len(connectors)):\n",
    "    ro_line_dense.connect(connectors[i])\n",
    "\n",
    "ro_line_sparse.connect(base.connector(1, 'bondpadright'))\n",
    "\n",
    "gomark('bondpadright')\n",
    "parts.Readout.bondpad_100nm_alu(1, ro_line_sparse, x2m('chipFF'))"
   ]
  },
  {
   "cell_type": "code",
   "execution_count": 6,
   "metadata": {},
   "outputs": [],
   "source": [
    "#write file\n",
    "writeTotalString(filename)"
   ]
  },
  {
   "cell_type": "code",
   "execution_count": null,
   "metadata": {},
   "outputs": [],
   "source": []
  },
  {
   "cell_type": "code",
   "execution_count": null,
   "metadata": {},
   "outputs": [],
   "source": []
  },
  {
   "cell_type": "code",
   "execution_count": null,
   "metadata": {},
   "outputs": [],
   "source": []
  },
  {
   "cell_type": "code",
   "execution_count": null,
   "metadata": {},
   "outputs": [],
   "source": []
  },
  {
   "cell_type": "code",
   "execution_count": null,
   "metadata": {},
   "outputs": [],
   "source": []
  },
  {
   "cell_type": "code",
   "execution_count": null,
   "metadata": {},
   "outputs": [],
   "source": []
  },
  {
   "cell_type": "code",
   "execution_count": null,
   "metadata": {},
   "outputs": [],
   "source": []
  },
  {
   "cell_type": "code",
   "execution_count": null,
   "metadata": {},
   "outputs": [],
   "source": []
  },
  {
   "cell_type": "code",
   "execution_count": null,
   "metadata": {},
   "outputs": [],
   "source": []
  },
  {
   "cell_type": "code",
   "execution_count": null,
   "metadata": {},
   "outputs": [],
   "source": []
  },
  {
   "cell_type": "code",
   "execution_count": null,
   "metadata": {},
   "outputs": [],
   "source": []
  },
  {
   "cell_type": "code",
   "execution_count": null,
   "metadata": {},
   "outputs": [],
   "source": []
  },
  {
   "cell_type": "code",
   "execution_count": null,
   "metadata": {},
   "outputs": [],
   "source": []
  },
  {
   "cell_type": "code",
   "execution_count": null,
   "metadata": {},
   "outputs": [],
   "source": []
  },
  {
   "cell_type": "code",
   "execution_count": null,
   "metadata": {},
   "outputs": [],
   "source": []
  },
  {
   "cell_type": "code",
   "execution_count": null,
   "metadata": {},
   "outputs": [],
   "source": []
  },
  {
   "cell_type": "code",
   "execution_count": null,
   "metadata": {},
   "outputs": [],
   "source": []
  },
  {
   "cell_type": "code",
   "execution_count": null,
   "metadata": {},
   "outputs": [],
   "source": []
  },
  {
   "cell_type": "code",
   "execution_count": null,
   "metadata": {},
   "outputs": [],
   "source": []
  },
  {
   "cell_type": "code",
   "execution_count": null,
   "metadata": {},
   "outputs": [],
   "source": []
  },
  {
   "cell_type": "code",
   "execution_count": null,
   "metadata": {},
   "outputs": [],
   "source": []
  },
  {
   "cell_type": "code",
   "execution_count": null,
   "metadata": {},
   "outputs": [],
   "source": []
  },
  {
   "cell_type": "code",
   "execution_count": null,
   "metadata": {},
   "outputs": [],
   "source": []
  },
  {
   "cell_type": "code",
   "execution_count": null,
   "metadata": {},
   "outputs": [],
   "source": []
  },
  {
   "cell_type": "code",
   "execution_count": null,
   "metadata": {},
   "outputs": [],
   "source": []
  },
  {
   "cell_type": "code",
   "execution_count": null,
   "metadata": {},
   "outputs": [],
   "source": []
  },
  {
   "cell_type": "code",
   "execution_count": null,
   "metadata": {},
   "outputs": [],
   "source": []
  },
  {
   "cell_type": "code",
   "execution_count": null,
   "metadata": {},
   "outputs": [],
   "source": []
  },
  {
   "cell_type": "code",
   "execution_count": null,
   "metadata": {},
   "outputs": [],
   "source": []
  },
  {
   "cell_type": "code",
   "execution_count": null,
   "metadata": {},
   "outputs": [],
   "source": []
  },
  {
   "cell_type": "code",
   "execution_count": null,
   "metadata": {},
   "outputs": [],
   "source": []
  },
  {
   "cell_type": "code",
   "execution_count": null,
   "metadata": {},
   "outputs": [],
   "source": []
  },
  {
   "cell_type": "code",
   "execution_count": null,
   "metadata": {},
   "outputs": [],
   "source": []
  },
  {
   "cell_type": "code",
   "execution_count": null,
   "metadata": {},
   "outputs": [],
   "source": []
  },
  {
   "cell_type": "code",
   "execution_count": null,
   "metadata": {},
   "outputs": [],
   "source": []
  },
  {
   "cell_type": "code",
   "execution_count": null,
   "metadata": {},
   "outputs": [],
   "source": []
  },
  {
   "cell_type": "code",
   "execution_count": null,
   "metadata": {},
   "outputs": [],
   "source": []
  },
  {
   "cell_type": "code",
   "execution_count": null,
   "metadata": {},
   "outputs": [],
   "source": []
  },
  {
   "cell_type": "code",
   "execution_count": null,
   "metadata": {},
   "outputs": [],
   "source": []
  },
  {
   "cell_type": "code",
   "execution_count": null,
   "metadata": {},
   "outputs": [],
   "source": []
  },
  {
   "cell_type": "code",
   "execution_count": null,
   "metadata": {},
   "outputs": [],
   "source": []
  }
 ],
 "metadata": {
  "kernelspec": {
   "display_name": "Python 2",
   "language": "python",
   "name": "python2"
  },
  "language_info": {
   "codemirror_mode": {
    "name": "ipython",
    "version": 2
   },
   "file_extension": ".py",
   "mimetype": "text/x-python",
   "name": "python",
   "nbconvert_exporter": "python",
   "pygments_lexer": "ipython2",
   "version": "2.7.15"
  }
 },
 "nbformat": 4,
 "nbformat_minor": 2
}
